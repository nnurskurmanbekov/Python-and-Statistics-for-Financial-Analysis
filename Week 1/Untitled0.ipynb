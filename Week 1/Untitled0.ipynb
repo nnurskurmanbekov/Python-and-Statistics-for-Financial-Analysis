{
  "cells": [
    {
      "cell_type": "markdown",
      "metadata": {
        "id": "7_ksBpEwpATZ"
      },
      "source": [
        "This course **Python and Statistics for Financial Analysis**\n",
        "\n",
        "Study : Kurmanbekov Nursultan \n"
      ]
    },
    {
      "cell_type": "markdown",
      "metadata": {
        "id": "MYKTDIQPpYtZ"
      },
      "source": [
        "We use Python because is Simplicity and Readibility\n",
        "\n",
        "                  Outline\n",
        "\n",
        "**01**    Package for Data Analysis\n",
        "\n",
        "**02** Import Data \n",
        "\n",
        "**03** Basics of DataFrame\n",
        "\n",
        "**04** Generation of Variables\n",
        "\n",
        "**05** Trading Strategy"
      ]
    },
    {
      "cell_type": "markdown",
      "metadata": {
        "id": "-jOiO3joqEaf"
      },
      "source": [
        "On This Notebook we imagne Package for Data Analysis\n",
        "\n",
        "**Essential Packages**\n",
        "\n",
        "*   Pandas \n",
        "    *    Excellent Data Structure  for time series data \n",
        "    *    Pre-process  data easily  with DataFrame\n",
        "\n",
        "*    Numpy \n",
        "    *    Array  and matrix  computing \n",
        "    *    Generate random numbers  for shuffling data \n",
        "*    Matplotlib \n",
        "    * Produces high quality  figures \n",
        "*    Statsmodels\n",
        "    *    Modules for regression and time  series  analysis\n",
        "\n"
      ]
    },
    {
      "cell_type": "markdown",
      "metadata": {
        "id": "1YVA_Gf-BlNz"
      },
      "source": [
        "# ***Import pandas for DataFrame***"
      ]
    },
    {
      "cell_type": "code",
      "execution_count": 8,
      "metadata": {
        "id": "51s1YTqJBdua"
      },
      "outputs": [],
      "source": [
        "import pandas as pd # We import Python pandas library as give short atribute pd # pd.FunctionaName pd.ModuleName"
      ]
    },
    {
      "cell_type": "markdown",
      "metadata": {
        "id": "x4egVdFEC0Rh"
      },
      "source": [
        "Import data"
      ]
    },
    {
      "cell_type": "markdown",
      "metadata": {},
      "source": [
        "And now we import 2 data \n",
        "\n",
        "1    facebook.csv\n",
        "2    microsoft.csv"
      ]
    },
    {
      "cell_type": "code",
      "execution_count": 14,
      "metadata": {
        "id": "WP16Ykl3DICj"
      },
      "outputs": [],
      "source": [
        "fb = pd.read_csv('data/facebook.csv')\n",
        "ms = pd.read_csv('data/microsoft.csv')"
      ]
    },
    {
      "cell_type": "code",
      "execution_count": 15,
      "metadata": {},
      "outputs": [
        {
          "name": "stdout",
          "output_type": "stream",
          "text": [
            "<class 'pandas.core.frame.DataFrame'>\n"
          ]
        }
      ],
      "source": [
        "print(type(fb))"
      ]
    },
    {
      "cell_type": "code",
      "execution_count": null,
      "metadata": {},
      "outputs": [],
      "source": [
        " "
      ]
    }
  ],
  "metadata": {
    "colab": {
      "name": "Untitled0.ipynb",
      "provenance": []
    },
    "kernelspec": {
      "display_name": "Python 3.10.2 64-bit",
      "language": "python",
      "name": "python3"
    },
    "language_info": {
      "codemirror_mode": {
        "name": "ipython",
        "version": 3
      },
      "file_extension": ".py",
      "mimetype": "text/x-python",
      "name": "python",
      "nbconvert_exporter": "python",
      "pygments_lexer": "ipython3",
      "version": "3.10.2"
    },
    "vscode": {
      "interpreter": {
        "hash": "1acc24bd1901f9ae8c29efb6830fcc1ca9fe0219dd00f8f1dc1b91856def15a9"
      }
    }
  },
  "nbformat": 4,
  "nbformat_minor": 0
}
