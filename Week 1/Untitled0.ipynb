{
  "cells": [
    {
      "cell_type": "markdown",
      "metadata": {
        "id": "7_ksBpEwpATZ"
      },
      "source": [
        "This course **Python and Statistics for Financial Analysis**\n",
        "\n",
        "Study : Kurmanbekov Nursultan \n"
      ]
    },
    {
      "cell_type": "markdown",
      "metadata": {
        "id": "MYKTDIQPpYtZ"
      },
      "source": [
        "We use Python because is Simplicity and Readibility\n",
        "\n",
        "                  Outline\n",
        "\n",
        "**01**    Package for Data Analysis\n",
        "\n",
        "**02** Import Data \n",
        "\n",
        "**03** Basics of DataFrame\n",
        "\n",
        "**04** Generation of Variables\n",
        "\n",
        "**05** Trading Strategy"
      ]
    },
    {
      "cell_type": "markdown",
      "metadata": {
        "id": "-jOiO3joqEaf"
      },
      "source": [
        "On This Notebook we imagne Package for Data Analysis\n",
        "\n",
        "**Essential Packages**\n",
        "\n",
        "*   Pandas \n",
        "    *    Excellent Data Structure  for time series data \n",
        "    *    Pre-process  data easily  with DataFrame\n",
        "\n",
        "*    Numpy \n",
        "    *    Array  and matrix  computing \n",
        "    *    Generate random numbers  for shuffling data \n",
        "*    Matplotlib \n",
        "    * Produces high quality  figures \n",
        "*    Statsmodels\n",
        "    *    Modules for regression and time  series  analysis\n",
        "\n"
      ]
    },
    {
      "cell_type": "markdown",
      "metadata": {
        "id": "1YVA_Gf-BlNz"
      },
      "source": [
        "# ***Import pandas for DataFrame***"
      ]
    },
    {
      "cell_type": "code",
      "execution_count": 8,
      "metadata": {
        "id": "51s1YTqJBdua"
      },
      "outputs": [],
      "source": [
        "import pandas as pd # We import Python pandas library as give short atribute pd # pd.FunctionaName pd.ModuleName"
      ]
    },
    {
      "cell_type": "markdown",
      "metadata": {
        "id": "x4egVdFEC0Rh"
      },
      "source": [
        "Import data"
      ]
    },
    {
      "cell_type": "markdown",
      "metadata": {},
      "source": [
        "And now we import 2 data \n",
        "\n",
        "1    facebook.csv\n",
        "2    microsoft.csv"
      ]
    },
    {
      "cell_type": "code",
      "execution_count": 14,
      "metadata": {
        "id": "WP16Ykl3DICj"
      },
      "outputs": [],
      "source": [
        "fb = pd.read_csv('data/facebook.csv')\n",
        "ms = pd.read_csv('data/microsoft.csv')"
      ]
    },
    {
      "cell_type": "code",
      "execution_count": 15,
      "metadata": {},
      "outputs": [
        {
          "name": "stdout",
          "output_type": "stream",
          "text": [
            "<class 'pandas.core.frame.DataFrame'>\n"
          ]
        }
      ],
      "source": [
        "print(type(fb))"
      ]
    },
    {
      "cell_type": "code",
      "execution_count": 17,
      "metadata": {},
      "outputs": [
        {
          "data": {
            "text/html": [
              "<div>\n",
              "<style scoped>\n",
              "    .dataframe tbody tr th:only-of-type {\n",
              "        vertical-align: middle;\n",
              "    }\n",
              "\n",
              "    .dataframe tbody tr th {\n",
              "        vertical-align: top;\n",
              "    }\n",
              "\n",
              "    .dataframe thead th {\n",
              "        text-align: right;\n",
              "    }\n",
              "</style>\n",
              "<table border=\"1\" class=\"dataframe\">\n",
              "  <thead>\n",
              "    <tr style=\"text-align: right;\">\n",
              "      <th></th>\n",
              "      <th>Date</th>\n",
              "      <th>Open</th>\n",
              "      <th>High</th>\n",
              "      <th>Low</th>\n",
              "      <th>Close</th>\n",
              "      <th>Adj Close</th>\n",
              "      <th>Volume</th>\n",
              "    </tr>\n",
              "  </thead>\n",
              "  <tbody>\n",
              "    <tr>\n",
              "      <th>0</th>\n",
              "      <td>2014-12-31</td>\n",
              "      <td>20.400000</td>\n",
              "      <td>20.510000</td>\n",
              "      <td>19.990000</td>\n",
              "      <td>20.049999</td>\n",
              "      <td>19.459270</td>\n",
              "      <td>4157500</td>\n",
              "    </tr>\n",
              "    <tr>\n",
              "      <th>1</th>\n",
              "      <td>2015-01-02</td>\n",
              "      <td>20.129999</td>\n",
              "      <td>20.280001</td>\n",
              "      <td>19.809999</td>\n",
              "      <td>20.129999</td>\n",
              "      <td>19.536913</td>\n",
              "      <td>2842000</td>\n",
              "    </tr>\n",
              "    <tr>\n",
              "      <th>2</th>\n",
              "      <td>2015-01-05</td>\n",
              "      <td>20.129999</td>\n",
              "      <td>20.190001</td>\n",
              "      <td>19.700001</td>\n",
              "      <td>19.790001</td>\n",
              "      <td>19.206934</td>\n",
              "      <td>4948800</td>\n",
              "    </tr>\n",
              "    <tr>\n",
              "      <th>3</th>\n",
              "      <td>2015-01-06</td>\n",
              "      <td>19.820000</td>\n",
              "      <td>19.840000</td>\n",
              "      <td>19.170000</td>\n",
              "      <td>19.190001</td>\n",
              "      <td>18.624611</td>\n",
              "      <td>4944100</td>\n",
              "    </tr>\n",
              "    <tr>\n",
              "      <th>4</th>\n",
              "      <td>2015-01-07</td>\n",
              "      <td>19.330000</td>\n",
              "      <td>19.500000</td>\n",
              "      <td>19.080000</td>\n",
              "      <td>19.139999</td>\n",
              "      <td>18.576082</td>\n",
              "      <td>8045200</td>\n",
              "    </tr>\n",
              "  </tbody>\n",
              "</table>\n",
              "</div>"
            ],
            "text/plain": [
              "         Date       Open       High        Low      Close  Adj Close   Volume\n",
              "0  2014-12-31  20.400000  20.510000  19.990000  20.049999  19.459270  4157500\n",
              "1  2015-01-02  20.129999  20.280001  19.809999  20.129999  19.536913  2842000\n",
              "2  2015-01-05  20.129999  20.190001  19.700001  19.790001  19.206934  4948800\n",
              "3  2015-01-06  19.820000  19.840000  19.170000  19.190001  18.624611  4944100\n",
              "4  2015-01-07  19.330000  19.500000  19.080000  19.139999  18.576082  8045200"
            ]
          },
          "execution_count": 17,
          "metadata": {},
          "output_type": "execute_result"
        }
      ],
      "source": [
        " fb.head()"
      ]
    },
    {
      "cell_type": "code",
      "execution_count": 18,
      "metadata": {},
      "outputs": [
        {
          "data": {
            "text/html": [
              "<div>\n",
              "<style scoped>\n",
              "    .dataframe tbody tr th:only-of-type {\n",
              "        vertical-align: middle;\n",
              "    }\n",
              "\n",
              "    .dataframe tbody tr th {\n",
              "        vertical-align: top;\n",
              "    }\n",
              "\n",
              "    .dataframe thead th {\n",
              "        text-align: right;\n",
              "    }\n",
              "</style>\n",
              "<table border=\"1\" class=\"dataframe\">\n",
              "  <thead>\n",
              "    <tr style=\"text-align: right;\">\n",
              "      <th></th>\n",
              "      <th>Date</th>\n",
              "      <th>Open</th>\n",
              "      <th>High</th>\n",
              "      <th>Low</th>\n",
              "      <th>Close</th>\n",
              "      <th>Adj Close</th>\n",
              "      <th>Volume</th>\n",
              "    </tr>\n",
              "  </thead>\n",
              "  <tbody>\n",
              "    <tr>\n",
              "      <th>0</th>\n",
              "      <td>2014-12-31</td>\n",
              "      <td>46.730000</td>\n",
              "      <td>47.439999</td>\n",
              "      <td>46.450001</td>\n",
              "      <td>46.450001</td>\n",
              "      <td>42.848763</td>\n",
              "      <td>21552500</td>\n",
              "    </tr>\n",
              "    <tr>\n",
              "      <th>1</th>\n",
              "      <td>2015-01-02</td>\n",
              "      <td>46.660000</td>\n",
              "      <td>47.419998</td>\n",
              "      <td>46.540001</td>\n",
              "      <td>46.759998</td>\n",
              "      <td>43.134731</td>\n",
              "      <td>27913900</td>\n",
              "    </tr>\n",
              "    <tr>\n",
              "      <th>2</th>\n",
              "      <td>2015-01-05</td>\n",
              "      <td>46.369999</td>\n",
              "      <td>46.730000</td>\n",
              "      <td>46.250000</td>\n",
              "      <td>46.330002</td>\n",
              "      <td>42.738068</td>\n",
              "      <td>39673900</td>\n",
              "    </tr>\n",
              "    <tr>\n",
              "      <th>3</th>\n",
              "      <td>2015-01-06</td>\n",
              "      <td>46.380001</td>\n",
              "      <td>46.750000</td>\n",
              "      <td>45.540001</td>\n",
              "      <td>45.650002</td>\n",
              "      <td>42.110783</td>\n",
              "      <td>36447900</td>\n",
              "    </tr>\n",
              "    <tr>\n",
              "      <th>4</th>\n",
              "      <td>2015-01-07</td>\n",
              "      <td>45.980000</td>\n",
              "      <td>46.459999</td>\n",
              "      <td>45.490002</td>\n",
              "      <td>46.230000</td>\n",
              "      <td>42.645817</td>\n",
              "      <td>29114100</td>\n",
              "    </tr>\n",
              "  </tbody>\n",
              "</table>\n",
              "</div>"
            ],
            "text/plain": [
              "         Date       Open       High        Low      Close  Adj Close    Volume\n",
              "0  2014-12-31  46.730000  47.439999  46.450001  46.450001  42.848763  21552500\n",
              "1  2015-01-02  46.660000  47.419998  46.540001  46.759998  43.134731  27913900\n",
              "2  2015-01-05  46.369999  46.730000  46.250000  46.330002  42.738068  39673900\n",
              "3  2015-01-06  46.380001  46.750000  45.540001  45.650002  42.110783  36447900\n",
              "4  2015-01-07  45.980000  46.459999  45.490002  46.230000  42.645817  29114100"
            ]
          },
          "execution_count": 18,
          "metadata": {},
          "output_type": "execute_result"
        }
      ],
      "source": [
        "ms.head()"
      ]
    },
    {
      "cell_type": "code",
      "execution_count": 28,
      "metadata": {},
      "outputs": [
        {
          "name": "stdout",
          "output_type": "stream",
          "text": [
            "0\n",
            "1\n",
            "2\n",
            "3\n",
            "4\n",
            "779\n",
            "\n",
            "\n",
            "Index(['Date', 'Open', 'High', 'Low', 'Close', 'Adj Close', 'Volume'], dtype='object')\n"
          ]
        }
      ],
      "source": [
        "fb.index\n",
        "for i in range(5): # List of index start from 0 to 4\n",
        "    print(fb.index[i])\n",
        "print(fb.index[-1]) # The last index\n",
        "\n",
        "print('\\n')\n",
        "'''\n",
        "for i in fb.columns:\n",
        "    print(i)\n",
        "    '''\n",
        "print(fb.columns) # Print columns name of CSV file"
      ]
    },
    {
      "cell_type": "code",
      "execution_count": 29,
      "metadata": {},
      "outputs": [
        {
          "data": {
            "text/plain": [
              "(780, 7)"
            ]
          },
          "execution_count": 29,
          "metadata": {},
          "output_type": "execute_result"
        }
      ],
      "source": [
        "fb.shape # number of rows and columns"
      ]
    },
    {
      "cell_type": "code",
      "execution_count": 30,
      "metadata": {},
      "outputs": [
        {
          "data": {
            "text/html": [
              "<div>\n",
              "<style scoped>\n",
              "    .dataframe tbody tr th:only-of-type {\n",
              "        vertical-align: middle;\n",
              "    }\n",
              "\n",
              "    .dataframe tbody tr th {\n",
              "        vertical-align: top;\n",
              "    }\n",
              "\n",
              "    .dataframe thead th {\n",
              "        text-align: right;\n",
              "    }\n",
              "</style>\n",
              "<table border=\"1\" class=\"dataframe\">\n",
              "  <thead>\n",
              "    <tr style=\"text-align: right;\">\n",
              "      <th></th>\n",
              "      <th>Date</th>\n",
              "      <th>Open</th>\n",
              "      <th>High</th>\n",
              "      <th>Low</th>\n",
              "      <th>Close</th>\n",
              "      <th>Adj Close</th>\n",
              "      <th>Volume</th>\n",
              "    </tr>\n",
              "  </thead>\n",
              "  <tbody>\n",
              "    <tr>\n",
              "      <th>775</th>\n",
              "      <td>2018-01-30</td>\n",
              "      <td>241.110001</td>\n",
              "      <td>246.419998</td>\n",
              "      <td>238.410004</td>\n",
              "      <td>242.720001</td>\n",
              "      <td>242.720001</td>\n",
              "      <td>14270800</td>\n",
              "    </tr>\n",
              "    <tr>\n",
              "      <th>776</th>\n",
              "      <td>2018-01-31</td>\n",
              "      <td>245.770004</td>\n",
              "      <td>249.270004</td>\n",
              "      <td>244.449997</td>\n",
              "      <td>245.800003</td>\n",
              "      <td>245.800003</td>\n",
              "      <td>11964400</td>\n",
              "    </tr>\n",
              "    <tr>\n",
              "      <th>777</th>\n",
              "      <td>2018-02-01</td>\n",
              "      <td>238.520004</td>\n",
              "      <td>246.899994</td>\n",
              "      <td>238.059998</td>\n",
              "      <td>240.500000</td>\n",
              "      <td>240.500000</td>\n",
              "      <td>12980600</td>\n",
              "    </tr>\n",
              "    <tr>\n",
              "      <th>778</th>\n",
              "      <td>2018-02-02</td>\n",
              "      <td>237.000000</td>\n",
              "      <td>237.970001</td>\n",
              "      <td>231.169998</td>\n",
              "      <td>233.520004</td>\n",
              "      <td>233.520004</td>\n",
              "      <td>17961600</td>\n",
              "    </tr>\n",
              "    <tr>\n",
              "      <th>779</th>\n",
              "      <td>2018-02-05</td>\n",
              "      <td>227.000000</td>\n",
              "      <td>233.229996</td>\n",
              "      <td>205.000000</td>\n",
              "      <td>213.699997</td>\n",
              "      <td>213.699997</td>\n",
              "      <td>28869000</td>\n",
              "    </tr>\n",
              "  </tbody>\n",
              "</table>\n",
              "</div>"
            ],
            "text/plain": [
              "           Date        Open        High         Low       Close   Adj Close  \\\n",
              "775  2018-01-30  241.110001  246.419998  238.410004  242.720001  242.720001   \n",
              "776  2018-01-31  245.770004  249.270004  244.449997  245.800003  245.800003   \n",
              "777  2018-02-01  238.520004  246.899994  238.059998  240.500000  240.500000   \n",
              "778  2018-02-02  237.000000  237.970001  231.169998  233.520004  233.520004   \n",
              "779  2018-02-05  227.000000  233.229996  205.000000  213.699997  213.699997   \n",
              "\n",
              "       Volume  \n",
              "775  14270800  \n",
              "776  11964400  \n",
              "777  12980600  \n",
              "778  17961600  \n",
              "779  28869000  "
            ]
          },
          "execution_count": 30,
          "metadata": {},
          "output_type": "execute_result"
        }
      ],
      "source": [
        "fb.tail()"
      ]
    },
    {
      "cell_type": "code",
      "execution_count": 31,
      "metadata": {},
      "outputs": [
        {
          "data": {
            "text/html": [
              "<div>\n",
              "<style scoped>\n",
              "    .dataframe tbody tr th:only-of-type {\n",
              "        vertical-align: middle;\n",
              "    }\n",
              "\n",
              "    .dataframe tbody tr th {\n",
              "        vertical-align: top;\n",
              "    }\n",
              "\n",
              "    .dataframe thead th {\n",
              "        text-align: right;\n",
              "    }\n",
              "</style>\n",
              "<table border=\"1\" class=\"dataframe\">\n",
              "  <thead>\n",
              "    <tr style=\"text-align: right;\">\n",
              "      <th></th>\n",
              "      <th>Open</th>\n",
              "      <th>High</th>\n",
              "      <th>Low</th>\n",
              "      <th>Close</th>\n",
              "      <th>Adj Close</th>\n",
              "      <th>Volume</th>\n",
              "    </tr>\n",
              "  </thead>\n",
              "  <tbody>\n",
              "    <tr>\n",
              "      <th>count</th>\n",
              "      <td>780.000000</td>\n",
              "      <td>780.000000</td>\n",
              "      <td>780.000000</td>\n",
              "      <td>780.000000</td>\n",
              "      <td>780.000000</td>\n",
              "      <td>7.800000e+02</td>\n",
              "    </tr>\n",
              "    <tr>\n",
              "      <th>mean</th>\n",
              "      <td>80.212705</td>\n",
              "      <td>81.285654</td>\n",
              "      <td>79.022397</td>\n",
              "      <td>80.264897</td>\n",
              "      <td>79.914215</td>\n",
              "      <td>1.204453e+07</td>\n",
              "    </tr>\n",
              "    <tr>\n",
              "      <th>std</th>\n",
              "      <td>64.226121</td>\n",
              "      <td>65.048907</td>\n",
              "      <td>63.190963</td>\n",
              "      <td>64.198375</td>\n",
              "      <td>64.327846</td>\n",
              "      <td>8.221848e+06</td>\n",
              "    </tr>\n",
              "    <tr>\n",
              "      <th>min</th>\n",
              "      <td>19.250000</td>\n",
              "      <td>19.500000</td>\n",
              "      <td>18.940001</td>\n",
              "      <td>19.139999</td>\n",
              "      <td>18.576082</td>\n",
              "      <td>1.311200e+06</td>\n",
              "    </tr>\n",
              "    <tr>\n",
              "      <th>25%</th>\n",
              "      <td>25.525000</td>\n",
              "      <td>26.085000</td>\n",
              "      <td>24.845000</td>\n",
              "      <td>25.475000</td>\n",
              "      <td>25.134512</td>\n",
              "      <td>7.215200e+06</td>\n",
              "    </tr>\n",
              "    <tr>\n",
              "      <th>50%</th>\n",
              "      <td>53.379999</td>\n",
              "      <td>54.034999</td>\n",
              "      <td>52.930000</td>\n",
              "      <td>53.420000</td>\n",
              "      <td>53.035403</td>\n",
              "      <td>9.728700e+06</td>\n",
              "    </tr>\n",
              "    <tr>\n",
              "      <th>75%</th>\n",
              "      <td>113.322502</td>\n",
              "      <td>115.779999</td>\n",
              "      <td>110.297499</td>\n",
              "      <td>113.702501</td>\n",
              "      <td>113.261238</td>\n",
              "      <td>1.408885e+07</td>\n",
              "    </tr>\n",
              "    <tr>\n",
              "      <th>max</th>\n",
              "      <td>245.770004</td>\n",
              "      <td>249.270004</td>\n",
              "      <td>244.449997</td>\n",
              "      <td>246.850006</td>\n",
              "      <td>246.850006</td>\n",
              "      <td>9.232320e+07</td>\n",
              "    </tr>\n",
              "  </tbody>\n",
              "</table>\n",
              "</div>"
            ],
            "text/plain": [
              "             Open        High         Low       Close   Adj Close  \\\n",
              "count  780.000000  780.000000  780.000000  780.000000  780.000000   \n",
              "mean    80.212705   81.285654   79.022397   80.264897   79.914215   \n",
              "std     64.226121   65.048907   63.190963   64.198375   64.327846   \n",
              "min     19.250000   19.500000   18.940001   19.139999   18.576082   \n",
              "25%     25.525000   26.085000   24.845000   25.475000   25.134512   \n",
              "50%     53.379999   54.034999   52.930000   53.420000   53.035403   \n",
              "75%    113.322502  115.779999  110.297499  113.702501  113.261238   \n",
              "max    245.770004  249.270004  244.449997  246.850006  246.850006   \n",
              "\n",
              "             Volume  \n",
              "count  7.800000e+02  \n",
              "mean   1.204453e+07  \n",
              "std    8.221848e+06  \n",
              "min    1.311200e+06  \n",
              "25%    7.215200e+06  \n",
              "50%    9.728700e+06  \n",
              "75%    1.408885e+07  \n",
              "max    9.232320e+07  "
            ]
          },
          "execution_count": 31,
          "metadata": {},
          "output_type": "execute_result"
        }
      ],
      "source": [
        "fb.describe()"
      ]
    },
    {
      "cell_type": "code",
      "execution_count": 32,
      "metadata": {},
      "outputs": [
        {
          "data": {
            "text/html": [
              "<div>\n",
              "<style scoped>\n",
              "    .dataframe tbody tr th:only-of-type {\n",
              "        vertical-align: middle;\n",
              "    }\n",
              "\n",
              "    .dataframe tbody tr th {\n",
              "        vertical-align: top;\n",
              "    }\n",
              "\n",
              "    .dataframe thead th {\n",
              "        text-align: right;\n",
              "    }\n",
              "</style>\n",
              "<table border=\"1\" class=\"dataframe\">\n",
              "  <thead>\n",
              "    <tr style=\"text-align: right;\">\n",
              "      <th></th>\n",
              "      <th>Date</th>\n",
              "      <th>Open</th>\n",
              "      <th>High</th>\n",
              "      <th>Low</th>\n",
              "      <th>Close</th>\n",
              "      <th>Adj Close</th>\n",
              "      <th>Volume</th>\n",
              "    </tr>\n",
              "  </thead>\n",
              "  <tbody>\n",
              "    <tr>\n",
              "      <th>0</th>\n",
              "      <td>2014-12-31</td>\n",
              "      <td>20.400000</td>\n",
              "      <td>20.510000</td>\n",
              "      <td>19.990000</td>\n",
              "      <td>20.049999</td>\n",
              "      <td>19.459270</td>\n",
              "      <td>4157500</td>\n",
              "    </tr>\n",
              "    <tr>\n",
              "      <th>1</th>\n",
              "      <td>2015-01-02</td>\n",
              "      <td>20.129999</td>\n",
              "      <td>20.280001</td>\n",
              "      <td>19.809999</td>\n",
              "      <td>20.129999</td>\n",
              "      <td>19.536913</td>\n",
              "      <td>2842000</td>\n",
              "    </tr>\n",
              "    <tr>\n",
              "      <th>2</th>\n",
              "      <td>2015-01-05</td>\n",
              "      <td>20.129999</td>\n",
              "      <td>20.190001</td>\n",
              "      <td>19.700001</td>\n",
              "      <td>19.790001</td>\n",
              "      <td>19.206934</td>\n",
              "      <td>4948800</td>\n",
              "    </tr>\n",
              "    <tr>\n",
              "      <th>3</th>\n",
              "      <td>2015-01-06</td>\n",
              "      <td>19.820000</td>\n",
              "      <td>19.840000</td>\n",
              "      <td>19.170000</td>\n",
              "      <td>19.190001</td>\n",
              "      <td>18.624611</td>\n",
              "      <td>4944100</td>\n",
              "    </tr>\n",
              "    <tr>\n",
              "      <th>4</th>\n",
              "      <td>2015-01-07</td>\n",
              "      <td>19.330000</td>\n",
              "      <td>19.500000</td>\n",
              "      <td>19.080000</td>\n",
              "      <td>19.139999</td>\n",
              "      <td>18.576082</td>\n",
              "      <td>8045200</td>\n",
              "    </tr>\n",
              "  </tbody>\n",
              "</table>\n",
              "</div>"
            ],
            "text/plain": [
              "         Date       Open       High        Low      Close  Adj Close   Volume\n",
              "0  2014-12-31  20.400000  20.510000  19.990000  20.049999  19.459270  4157500\n",
              "1  2015-01-02  20.129999  20.280001  19.809999  20.129999  19.536913  2842000\n",
              "2  2015-01-05  20.129999  20.190001  19.700001  19.790001  19.206934  4948800\n",
              "3  2015-01-06  19.820000  19.840000  19.170000  19.190001  18.624611  4944100\n",
              "4  2015-01-07  19.330000  19.500000  19.080000  19.139999  18.576082  8045200"
            ]
          },
          "execution_count": 32,
          "metadata": {},
          "output_type": "execute_result"
        }
      ],
      "source": [
        "fb.head(5)"
      ]
    },
    {
      "cell_type": "markdown",
      "metadata": {},
      "source": [
        "*    Selection by Lebel\n",
        "    *    .loc\n",
        "*    Selection by position\n",
        "    *    .iloc\n",
        "    \n",
        "    "
      ]
    },
    {
      "cell_type": "code",
      "execution_count": 49,
      "metadata": {},
      "outputs": [
        {
          "data": {
            "text/plain": [
              "Date         2015-01-05\n",
              "Open          20.129999\n",
              "High          20.190001\n",
              "Low           19.700001\n",
              "Close         19.790001\n",
              "Adj Close     19.206934\n",
              "Volume          4948800\n",
              "Name: 2, dtype: object"
            ]
          },
          "execution_count": 49,
          "metadata": {},
          "output_type": "execute_result"
        }
      ],
      "source": [
        "fb.loc[2]"
      ]
    },
    {
      "cell_type": "code",
      "execution_count": 50,
      "metadata": {},
      "outputs": [
        {
          "data": {
            "text/plain": [
              "20.129999"
            ]
          },
          "execution_count": 50,
          "metadata": {},
          "output_type": "execute_result"
        }
      ],
      "source": [
        "fb.iloc[2, 1]"
      ]
    },
    {
      "cell_type": "code",
      "execution_count": 56,
      "metadata": {},
      "outputs": [
        {
          "data": {
            "text/plain": [
              "1    20.129999\n",
              "2    19.790001\n",
              "3    19.190001\n",
              "Name: Close, dtype: float64"
            ]
          },
          "execution_count": 56,
          "metadata": {},
          "output_type": "execute_result"
        }
      ],
      "source": [
        "fb.loc[1:3,'Close']"
      ]
    },
    {
      "cell_type": "code",
      "execution_count": 57,
      "metadata": {},
      "outputs": [
        {
          "data": {
            "text/plain": [
              "Date         2017-06-23\n",
              "Open         158.679993\n",
              "High         159.320007\n",
              "Low          153.220001\n",
              "Close        153.830002\n",
              "Adj Close    153.587982\n",
              "Volume         27214700\n",
              "Name: 624, dtype: object"
            ]
          },
          "execution_count": 57,
          "metadata": {},
          "output_type": "execute_result"
        }
      ],
      "source": [
        "fb.iloc[624, :]"
      ]
    },
    {
      "cell_type": "code",
      "execution_count": 64,
      "metadata": {},
      "outputs": [
        {
          "data": {
            "text/plain": [
              "<AxesSubplot:>"
            ]
          },
          "execution_count": 64,
          "metadata": {},
          "output_type": "execute_result"
        },
        {
          "data": {
            "image/png": "[encoded data removed]",
            "text/plain": [
              "<Figure size 432x288 with 1 Axes>"
            ]
          },
          "metadata": {
            "needs_background": "light"
          },
          "output_type": "display_data"
        }
      ],
      "source": [
        "fb.loc[: , 'Close'].plot() # Total for all years Stock Information"
      ]
    },
    {
      "cell_type": "code",
      "execution_count": 68,
      "metadata": {},
      "outputs": [
        {
          "name": "stdout",
          "output_type": "stream",
          "text": [
            "<class 'pandas.core.frame.DataFrame'>\n",
            "RangeIndex: 780 entries, 0 to 779\n",
            "Data columns (total 7 columns):\n",
            " #   Column     Non-Null Count  Dtype  \n",
            "---  ------     --------------  -----  \n",
            " 0   Date       780 non-null    object \n",
            " 1   Open       780 non-null    float64\n",
            " 2   High       780 non-null    float64\n",
            " 3   Low        780 non-null    float64\n",
            " 4   Close      780 non-null    float64\n",
            " 5   Adj Close  780 non-null    float64\n",
            " 6   Volume     780 non-null    int64  \n",
            "dtypes: float64(5), int64(1), object(1)\n",
            "memory usage: 42.8+ KB\n"
          ]
        }
      ],
      "source": [
        "fb.info()"
      ]
    },
    {
      "cell_type": "code",
      "execution_count": 69,
      "metadata": {},
      "outputs": [
        {
          "data": {
            "text/plain": [
              "1    2015-01-02\n",
              "2    2015-01-05\n",
              "3    2015-01-06\n",
              "Name: Date, dtype: object"
            ]
          },
          "execution_count": 69,
          "metadata": {},
          "output_type": "execute_result"
        }
      ],
      "source": [
        "fb.loc[1:3, 'Date']"
      ]
    },
    {
      "cell_type": "code",
      "execution_count": 74,
      "metadata": {},
      "outputs": [
        {
          "data": {
            "text/plain": [
              "1      20.129999\n",
              "2      19.790001\n",
              "3      19.190001\n",
              "4      19.139999\n",
              "5      19.860001\n",
              "         ...    \n",
              "361    46.180000\n",
              "362    47.380001\n",
              "363    46.200001\n",
              "364    46.790001\n",
              "365    46.880001\n",
              "Name: Close, Length: 365, dtype: float64"
            ]
          },
          "execution_count": 74,
          "metadata": {},
          "output_type": "execute_result"
        }
      ],
      "source": [
        "fb.loc[1:365, 'Close']"
      ]
    },
    {
      "cell_type": "code",
      "execution_count": 78,
      "metadata": {},
      "outputs": [
        {
          "data": {
            "text/html": [
              "<div>\n",
              "<style scoped>\n",
              "    .dataframe tbody tr th:only-of-type {\n",
              "        vertical-align: middle;\n",
              "    }\n",
              "\n",
              "    .dataframe tbody tr th {\n",
              "        vertical-align: top;\n",
              "    }\n",
              "\n",
              "    .dataframe thead th {\n",
              "        text-align: right;\n",
              "    }\n",
              "</style>\n",
              "<table border=\"1\" class=\"dataframe\">\n",
              "  <thead>\n",
              "    <tr style=\"text-align: right;\">\n",
              "      <th></th>\n",
              "      <th>Date</th>\n",
              "      <th>Open</th>\n",
              "      <th>High</th>\n",
              "      <th>Low</th>\n",
              "      <th>Close</th>\n",
              "      <th>Adj Close</th>\n",
              "      <th>Volume</th>\n",
              "    </tr>\n",
              "  </thead>\n",
              "  <tbody>\n",
              "    <tr>\n",
              "      <th>0</th>\n",
              "      <td>2014-12-31</td>\n",
              "      <td>20.400000</td>\n",
              "      <td>20.510000</td>\n",
              "      <td>19.990000</td>\n",
              "      <td>20.049999</td>\n",
              "      <td>19.459270</td>\n",
              "      <td>4157500</td>\n",
              "    </tr>\n",
              "    <tr>\n",
              "      <th>1</th>\n",
              "      <td>2015-01-02</td>\n",
              "      <td>20.129999</td>\n",
              "      <td>20.280001</td>\n",
              "      <td>19.809999</td>\n",
              "      <td>20.129999</td>\n",
              "      <td>19.536913</td>\n",
              "      <td>2842000</td>\n",
              "    </tr>\n",
              "    <tr>\n",
              "      <th>2</th>\n",
              "      <td>2015-01-05</td>\n",
              "      <td>20.129999</td>\n",
              "      <td>20.190001</td>\n",
              "      <td>19.700001</td>\n",
              "      <td>19.790001</td>\n",
              "      <td>19.206934</td>\n",
              "      <td>4948800</td>\n",
              "    </tr>\n",
              "    <tr>\n",
              "      <th>3</th>\n",
              "      <td>2015-01-06</td>\n",
              "      <td>19.820000</td>\n",
              "      <td>19.840000</td>\n",
              "      <td>19.170000</td>\n",
              "      <td>19.190001</td>\n",
              "      <td>18.624611</td>\n",
              "      <td>4944100</td>\n",
              "    </tr>\n",
              "    <tr>\n",
              "      <th>4</th>\n",
              "      <td>2015-01-07</td>\n",
              "      <td>19.330000</td>\n",
              "      <td>19.500000</td>\n",
              "      <td>19.080000</td>\n",
              "      <td>19.139999</td>\n",
              "      <td>18.576082</td>\n",
              "      <td>8045200</td>\n",
              "    </tr>\n",
              "    <tr>\n",
              "      <th>5</th>\n",
              "      <td>2015-01-08</td>\n",
              "      <td>19.360001</td>\n",
              "      <td>19.980000</td>\n",
              "      <td>19.350000</td>\n",
              "      <td>19.860001</td>\n",
              "      <td>19.274870</td>\n",
              "      <td>7094500</td>\n",
              "    </tr>\n",
              "    <tr>\n",
              "      <th>6</th>\n",
              "      <td>2015-01-09</td>\n",
              "      <td>19.930000</td>\n",
              "      <td>20.090000</td>\n",
              "      <td>19.660000</td>\n",
              "      <td>19.940001</td>\n",
              "      <td>19.352512</td>\n",
              "      <td>5238500</td>\n",
              "    </tr>\n",
              "    <tr>\n",
              "      <th>7</th>\n",
              "      <td>2015-01-12</td>\n",
              "      <td>19.990000</td>\n",
              "      <td>20.000000</td>\n",
              "      <td>19.510000</td>\n",
              "      <td>19.690001</td>\n",
              "      <td>19.109879</td>\n",
              "      <td>4768300</td>\n",
              "    </tr>\n",
              "    <tr>\n",
              "      <th>8</th>\n",
              "      <td>2015-01-13</td>\n",
              "      <td>19.840000</td>\n",
              "      <td>20.240000</td>\n",
              "      <td>19.520000</td>\n",
              "      <td>19.660000</td>\n",
              "      <td>19.080761</td>\n",
              "      <td>5909700</td>\n",
              "    </tr>\n",
              "    <tr>\n",
              "      <th>9</th>\n",
              "      <td>2015-01-14</td>\n",
              "      <td>19.450001</td>\n",
              "      <td>19.799999</td>\n",
              "      <td>19.400000</td>\n",
              "      <td>19.740000</td>\n",
              "      <td>19.158401</td>\n",
              "      <td>3881500</td>\n",
              "    </tr>\n",
              "  </tbody>\n",
              "</table>\n",
              "</div>"
            ],
            "text/plain": [
              "         Date       Open       High        Low      Close  Adj Close   Volume\n",
              "0  2014-12-31  20.400000  20.510000  19.990000  20.049999  19.459270  4157500\n",
              "1  2015-01-02  20.129999  20.280001  19.809999  20.129999  19.536913  2842000\n",
              "2  2015-01-05  20.129999  20.190001  19.700001  19.790001  19.206934  4948800\n",
              "3  2015-01-06  19.820000  19.840000  19.170000  19.190001  18.624611  4944100\n",
              "4  2015-01-07  19.330000  19.500000  19.080000  19.139999  18.576082  8045200\n",
              "5  2015-01-08  19.360001  19.980000  19.350000  19.860001  19.274870  7094500\n",
              "6  2015-01-09  19.930000  20.090000  19.660000  19.940001  19.352512  5238500\n",
              "7  2015-01-12  19.990000  20.000000  19.510000  19.690001  19.109879  4768300\n",
              "8  2015-01-13  19.840000  20.240000  19.520000  19.660000  19.080761  5909700\n",
              "9  2015-01-14  19.450001  19.799999  19.400000  19.740000  19.158401  3881500"
            ]
          },
          "execution_count": 78,
          "metadata": {},
          "output_type": "execute_result"
        }
      ],
      "source": [
        "fb.head(10)"
      ]
    },
    {
      "cell_type": "code",
      "execution_count": 84,
      "metadata": {},
      "outputs": [
        {
          "data": {
            "text/plain": [
              "Date         2015-01-02\n",
              "Open          20.129999\n",
              "High          20.280001\n",
              "Low           19.809999\n",
              "Close         20.129999\n",
              "Adj Close     19.536913\n",
              "Volume          2842000\n",
              "Name: 1, dtype: object"
            ]
          },
          "execution_count": 84,
          "metadata": {},
          "output_type": "execute_result"
        }
      ],
      "source": [
        "fb.loc[1]"
      ]
    },
    {
      "cell_type": "code",
      "execution_count": 86,
      "metadata": {},
      "outputs": [
        {
          "data": {
            "text/plain": [
              "Date         2015-01-02\n",
              "Open          20.129999\n",
              "High          20.280001\n",
              "Low           19.809999\n",
              "Close         20.129999\n",
              "Adj Close     19.536913\n",
              "Volume          2842000\n",
              "Name: 1, dtype: object"
            ]
          },
          "execution_count": 86,
          "metadata": {},
          "output_type": "execute_result"
        }
      ],
      "source": [
        "fb.iloc[1]"
      ]
    },
    {
      "cell_type": "code",
      "execution_count": 87,
      "metadata": {},
      "outputs": [
        {
          "data": {
            "text/plain": [
              "<AxesSubplot:>"
            ]
          },
          "execution_count": 87,
          "metadata": {},
          "output_type": "execute_result"
        },
        {
          "data": {
            "image/png": "[encoded data removed]",
            "text/plain": [
              "<Figure size 432x288 with 1 Axes>"
            ]
          },
          "metadata": {
            "needs_background": "light"
          },
          "output_type": "display_data"
        }
      ],
      "source": [
        "fb.loc[1:366, 'Close'].plot()"
      ]
    },
    {
      "cell_type": "code",
      "execution_count": 88,
      "metadata": {},
      "outputs": [
        {
          "data": {
            "text/plain": [
              "<AxesSubplot:>"
            ]
          },
          "execution_count": 88,
          "metadata": {},
          "output_type": "execute_result"
        },
        {
          "data": {
            "image/png": "[encoded data removed]",
            "text/plain": [
              "<Figure size 432x288 with 1 Axes>"
            ]
          },
          "metadata": {
            "needs_background": "light"
          },
          "output_type": "display_data"
        }
      ],
      "source": [
        "fb.loc[:, 'Close'].plot()"
      ]
    }
  ],
  "metadata": {
    "colab": {
      "name": "Untitled0.ipynb",
      "provenance": []
    },
    "kernelspec": {
      "display_name": "Python 3.10.2 64-bit",
      "language": "python",
      "name": "python3"
    },
    "language_info": {
      "codemirror_mode": {
        "name": "ipython",
        "version": 3
      },
      "file_extension": ".py",
      "mimetype": "text/x-python",
      "name": "python",
      "nbconvert_exporter": "python",
      "pygments_lexer": "ipython3",
      "version": "3.10.2"
    },
    "vscode": {
      "interpreter": {
        "hash": "1acc24bd1901f9ae8c29efb6830fcc1ca9fe0219dd00f8f1dc1b91856def15a9"
      }
    }
  },
  "nbformat": 4,
  "nbformat_minor": 0
}
